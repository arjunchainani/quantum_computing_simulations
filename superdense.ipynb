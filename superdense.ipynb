{
  "cells": [
    {
      "cell_type": "code",
      "execution_count": null,
      "metadata": {
        "colab": {
          "base_uri": "https://localhost:8080/"
        },
        "id": "FVLBZunoK9ry",
        "outputId": "8f103565-b295-422c-b81f-1949fadbf541"
      },
      "outputs": [
        {
          "output_type": "stream",
          "name": "stdout",
          "text": [
            "Looking in indexes: https://pypi.org/simple, https://us-python.pkg.dev/colab-wheels/public/simple/\n",
            "Requirement already satisfied: qiskit[visualization] in /usr/local/lib/python3.8/dist-packages (0.41.0)\n",
            "Requirement already satisfied: qiskit-ibmq-provider==0.20.0 in /usr/local/lib/python3.8/dist-packages (from qiskit[visualization]) (0.20.0)\n",
            "Requirement already satisfied: qiskit-terra==0.23.1 in /usr/local/lib/python3.8/dist-packages (from qiskit[visualization]) (0.23.1)\n",
            "Requirement already satisfied: qiskit-aer==0.11.2 in /usr/local/lib/python3.8/dist-packages (from qiskit[visualization]) (0.11.2)\n",
            "Requirement already satisfied: pillow>=4.2.1 in /usr/local/lib/python3.8/dist-packages (from qiskit[visualization]) (7.1.2)\n",
            "Requirement already satisfied: pydot in /usr/local/lib/python3.8/dist-packages (from qiskit[visualization]) (1.3.0)\n",
            "Requirement already satisfied: pygments>=2.4 in /usr/local/lib/python3.8/dist-packages (from qiskit[visualization]) (2.6.1)\n",
            "Requirement already satisfied: matplotlib>=2.1 in /usr/local/lib/python3.8/dist-packages (from qiskit[visualization]) (3.2.2)\n",
            "Requirement already satisfied: ipywidgets>=7.3.0 in /usr/local/lib/python3.8/dist-packages (from qiskit[visualization]) (7.7.1)\n",
            "Requirement already satisfied: seaborn>=0.9.0 in /usr/local/lib/python3.8/dist-packages (from qiskit[visualization]) (0.11.2)\n",
            "Requirement already satisfied: pylatexenc>=1.4 in /usr/local/lib/python3.8/dist-packages (from qiskit[visualization]) (2.10)\n",
            "Requirement already satisfied: numpy>=1.16.3 in /usr/local/lib/python3.8/dist-packages (from qiskit-aer==0.11.2->qiskit[visualization]) (1.21.6)\n",
            "Requirement already satisfied: scipy>=1.0 in /usr/local/lib/python3.8/dist-packages (from qiskit-aer==0.11.2->qiskit[visualization]) (1.7.3)\n",
            "Requirement already satisfied: websockets>=10.0 in /usr/local/lib/python3.8/dist-packages (from qiskit-ibmq-provider==0.20.0->qiskit[visualization]) (10.4)\n",
            "Requirement already satisfied: python-dateutil>=2.8.0 in /usr/local/lib/python3.8/dist-packages (from qiskit-ibmq-provider==0.20.0->qiskit[visualization]) (2.8.2)\n",
            "Requirement already satisfied: requests-ntlm>=1.1.0 in /usr/local/lib/python3.8/dist-packages (from qiskit-ibmq-provider==0.20.0->qiskit[visualization]) (1.1.0)\n",
            "Requirement already satisfied: websocket-client<=1.3.3 in /usr/local/lib/python3.8/dist-packages (from qiskit-ibmq-provider==0.20.0->qiskit[visualization]) (1.3.3)\n",
            "Requirement already satisfied: urllib3>=1.21.1 in /usr/local/lib/python3.8/dist-packages (from qiskit-ibmq-provider==0.20.0->qiskit[visualization]) (1.24.3)\n",
            "Requirement already satisfied: requests>=2.19 in /usr/local/lib/python3.8/dist-packages (from qiskit-ibmq-provider==0.20.0->qiskit[visualization]) (2.25.1)\n",
            "Requirement already satisfied: psutil>=5 in /usr/local/lib/python3.8/dist-packages (from qiskit-terra==0.23.1->qiskit[visualization]) (5.4.8)\n",
            "Requirement already satisfied: stevedore>=3.0.0 in /usr/local/lib/python3.8/dist-packages (from qiskit-terra==0.23.1->qiskit[visualization]) (4.1.1)\n",
            "Requirement already satisfied: rustworkx>=0.12.0 in /usr/local/lib/python3.8/dist-packages (from qiskit-terra==0.23.1->qiskit[visualization]) (0.12.1)\n",
            "Requirement already satisfied: ply>=3.10 in /usr/local/lib/python3.8/dist-packages (from qiskit-terra==0.23.1->qiskit[visualization]) (3.11)\n",
            "Requirement already satisfied: dill>=0.3 in /usr/local/lib/python3.8/dist-packages (from qiskit-terra==0.23.1->qiskit[visualization]) (0.3.6)\n",
            "Requirement already satisfied: symengine>=0.9 in /usr/local/lib/python3.8/dist-packages (from qiskit-terra==0.23.1->qiskit[visualization]) (0.9.2)\n",
            "Requirement already satisfied: sympy>=1.3 in /usr/local/lib/python3.8/dist-packages (from qiskit-terra==0.23.1->qiskit[visualization]) (1.7.1)\n",
            "Requirement already satisfied: ipykernel>=4.5.1 in /usr/local/lib/python3.8/dist-packages (from ipywidgets>=7.3.0->qiskit[visualization]) (5.3.4)\n",
            "Requirement already satisfied: ipython-genutils~=0.2.0 in /usr/local/lib/python3.8/dist-packages (from ipywidgets>=7.3.0->qiskit[visualization]) (0.2.0)\n",
            "Requirement already satisfied: jupyterlab-widgets>=1.0.0 in /usr/local/lib/python3.8/dist-packages (from ipywidgets>=7.3.0->qiskit[visualization]) (3.0.5)\n",
            "Requirement already satisfied: ipython>=4.0.0 in /usr/local/lib/python3.8/dist-packages (from ipywidgets>=7.3.0->qiskit[visualization]) (7.9.0)\n",
            "Requirement already satisfied: traitlets>=4.3.1 in /usr/local/lib/python3.8/dist-packages (from ipywidgets>=7.3.0->qiskit[visualization]) (5.7.1)\n",
            "Requirement already satisfied: widgetsnbextension~=3.6.0 in /usr/local/lib/python3.8/dist-packages (from ipywidgets>=7.3.0->qiskit[visualization]) (3.6.1)\n",
            "Requirement already satisfied: pyparsing!=2.0.4,!=2.1.2,!=2.1.6,>=2.0.1 in /usr/local/lib/python3.8/dist-packages (from matplotlib>=2.1->qiskit[visualization]) (3.0.9)\n",
            "Requirement already satisfied: kiwisolver>=1.0.1 in /usr/local/lib/python3.8/dist-packages (from matplotlib>=2.1->qiskit[visualization]) (1.4.4)\n",
            "Requirement already satisfied: cycler>=0.10 in /usr/local/lib/python3.8/dist-packages (from matplotlib>=2.1->qiskit[visualization]) (0.11.0)\n",
            "Requirement already satisfied: pandas>=0.23 in /usr/local/lib/python3.8/dist-packages (from seaborn>=0.9.0->qiskit[visualization]) (1.3.5)\n",
            "Requirement already satisfied: jupyter-client in /usr/local/lib/python3.8/dist-packages (from ipykernel>=4.5.1->ipywidgets>=7.3.0->qiskit[visualization]) (6.1.12)\n",
            "Requirement already satisfied: tornado>=4.2 in /usr/local/lib/python3.8/dist-packages (from ipykernel>=4.5.1->ipywidgets>=7.3.0->qiskit[visualization]) (6.0.4)\n",
            "Requirement already satisfied: pexpect in /usr/local/lib/python3.8/dist-packages (from ipython>=4.0.0->ipywidgets>=7.3.0->qiskit[visualization]) (4.8.0)\n",
            "Requirement already satisfied: prompt-toolkit<2.1.0,>=2.0.0 in /usr/local/lib/python3.8/dist-packages (from ipython>=4.0.0->ipywidgets>=7.3.0->qiskit[visualization]) (2.0.10)\n",
            "Requirement already satisfied: pickleshare in /usr/local/lib/python3.8/dist-packages (from ipython>=4.0.0->ipywidgets>=7.3.0->qiskit[visualization]) (0.7.5)\n",
            "Requirement already satisfied: backcall in /usr/local/lib/python3.8/dist-packages (from ipython>=4.0.0->ipywidgets>=7.3.0->qiskit[visualization]) (0.2.0)\n",
            "Requirement already satisfied: decorator in /usr/local/lib/python3.8/dist-packages (from ipython>=4.0.0->ipywidgets>=7.3.0->qiskit[visualization]) (4.4.2)\n",
            "Requirement already satisfied: setuptools>=18.5 in /usr/local/lib/python3.8/dist-packages (from ipython>=4.0.0->ipywidgets>=7.3.0->qiskit[visualization]) (57.4.0)\n",
            "Requirement already satisfied: jedi>=0.10 in /usr/local/lib/python3.8/dist-packages (from ipython>=4.0.0->ipywidgets>=7.3.0->qiskit[visualization]) (0.18.2)\n",
            "Requirement already satisfied: pytz>=2017.3 in /usr/local/lib/python3.8/dist-packages (from pandas>=0.23->seaborn>=0.9.0->qiskit[visualization]) (2022.7)\n",
            "Requirement already satisfied: six>=1.5 in /usr/local/lib/python3.8/dist-packages (from python-dateutil>=2.8.0->qiskit-ibmq-provider==0.20.0->qiskit[visualization]) (1.15.0)\n",
            "Requirement already satisfied: chardet<5,>=3.0.2 in /usr/local/lib/python3.8/dist-packages (from requests>=2.19->qiskit-ibmq-provider==0.20.0->qiskit[visualization]) (4.0.0)\n",
            "Requirement already satisfied: idna<3,>=2.5 in /usr/local/lib/python3.8/dist-packages (from requests>=2.19->qiskit-ibmq-provider==0.20.0->qiskit[visualization]) (2.10)\n",
            "Requirement already satisfied: certifi>=2017.4.17 in /usr/local/lib/python3.8/dist-packages (from requests>=2.19->qiskit-ibmq-provider==0.20.0->qiskit[visualization]) (2022.12.7)\n",
            "Requirement already satisfied: ntlm-auth>=1.0.2 in /usr/local/lib/python3.8/dist-packages (from requests-ntlm>=1.1.0->qiskit-ibmq-provider==0.20.0->qiskit[visualization]) (1.5.0)\n",
            "Requirement already satisfied: cryptography>=1.3 in /usr/local/lib/python3.8/dist-packages (from requests-ntlm>=1.1.0->qiskit-ibmq-provider==0.20.0->qiskit[visualization]) (39.0.0)\n",
            "Requirement already satisfied: pbr!=2.1.0,>=2.0.0 in /usr/local/lib/python3.8/dist-packages (from stevedore>=3.0.0->qiskit-terra==0.23.1->qiskit[visualization]) (5.11.1)\n",
            "Requirement already satisfied: mpmath>=0.19 in /usr/local/lib/python3.8/dist-packages (from sympy>=1.3->qiskit-terra==0.23.1->qiskit[visualization]) (1.2.1)\n",
            "Requirement already satisfied: notebook>=4.4.1 in /usr/local/lib/python3.8/dist-packages (from widgetsnbextension~=3.6.0->ipywidgets>=7.3.0->qiskit[visualization]) (5.7.16)\n",
            "Requirement already satisfied: cffi>=1.12 in /usr/local/lib/python3.8/dist-packages (from cryptography>=1.3->requests-ntlm>=1.1.0->qiskit-ibmq-provider==0.20.0->qiskit[visualization]) (1.15.1)\n",
            "Requirement already satisfied: parso<0.9.0,>=0.8.0 in /usr/local/lib/python3.8/dist-packages (from jedi>=0.10->ipython>=4.0.0->ipywidgets>=7.3.0->qiskit[visualization]) (0.8.3)\n",
            "Requirement already satisfied: terminado>=0.8.1 in /usr/local/lib/python3.8/dist-packages (from notebook>=4.4.1->widgetsnbextension~=3.6.0->ipywidgets>=7.3.0->qiskit[visualization]) (0.13.3)\n",
            "Requirement already satisfied: prometheus-client in /usr/local/lib/python3.8/dist-packages (from notebook>=4.4.1->widgetsnbextension~=3.6.0->ipywidgets>=7.3.0->qiskit[visualization]) (0.15.0)\n",
            "Requirement already satisfied: Send2Trash in /usr/local/lib/python3.8/dist-packages (from notebook>=4.4.1->widgetsnbextension~=3.6.0->ipywidgets>=7.3.0->qiskit[visualization]) (1.8.0)\n",
            "Requirement already satisfied: jinja2<=3.0.0 in /usr/local/lib/python3.8/dist-packages (from notebook>=4.4.1->widgetsnbextension~=3.6.0->ipywidgets>=7.3.0->qiskit[visualization]) (2.11.3)\n",
            "Requirement already satisfied: jupyter-core>=4.4.0 in /usr/local/lib/python3.8/dist-packages (from notebook>=4.4.1->widgetsnbextension~=3.6.0->ipywidgets>=7.3.0->qiskit[visualization]) (5.1.3)\n",
            "Requirement already satisfied: pyzmq>=17 in /usr/local/lib/python3.8/dist-packages (from notebook>=4.4.1->widgetsnbextension~=3.6.0->ipywidgets>=7.3.0->qiskit[visualization]) (23.2.1)\n",
            "Requirement already satisfied: nbconvert<6.0 in /usr/local/lib/python3.8/dist-packages (from notebook>=4.4.1->widgetsnbextension~=3.6.0->ipywidgets>=7.3.0->qiskit[visualization]) (5.6.1)\n",
            "Requirement already satisfied: nbformat in /usr/local/lib/python3.8/dist-packages (from notebook>=4.4.1->widgetsnbextension~=3.6.0->ipywidgets>=7.3.0->qiskit[visualization]) (5.7.1)\n",
            "Requirement already satisfied: wcwidth in /usr/local/lib/python3.8/dist-packages (from prompt-toolkit<2.1.0,>=2.0.0->ipython>=4.0.0->ipywidgets>=7.3.0->qiskit[visualization]) (0.2.5)\n",
            "Requirement already satisfied: ptyprocess>=0.5 in /usr/local/lib/python3.8/dist-packages (from pexpect->ipython>=4.0.0->ipywidgets>=7.3.0->qiskit[visualization]) (0.7.0)\n",
            "Requirement already satisfied: pycparser in /usr/local/lib/python3.8/dist-packages (from cffi>=1.12->cryptography>=1.3->requests-ntlm>=1.1.0->qiskit-ibmq-provider==0.20.0->qiskit[visualization]) (2.21)\n",
            "Requirement already satisfied: MarkupSafe>=0.23 in /usr/local/lib/python3.8/dist-packages (from jinja2<=3.0.0->notebook>=4.4.1->widgetsnbextension~=3.6.0->ipywidgets>=7.3.0->qiskit[visualization]) (2.0.1)\n",
            "Requirement already satisfied: platformdirs>=2.5 in /usr/local/lib/python3.8/dist-packages (from jupyter-core>=4.4.0->notebook>=4.4.1->widgetsnbextension~=3.6.0->ipywidgets>=7.3.0->qiskit[visualization]) (2.6.2)\n",
            "Requirement already satisfied: pandocfilters>=1.4.1 in /usr/local/lib/python3.8/dist-packages (from nbconvert<6.0->notebook>=4.4.1->widgetsnbextension~=3.6.0->ipywidgets>=7.3.0->qiskit[visualization]) (1.5.0)\n",
            "Requirement already satisfied: entrypoints>=0.2.2 in /usr/local/lib/python3.8/dist-packages (from nbconvert<6.0->notebook>=4.4.1->widgetsnbextension~=3.6.0->ipywidgets>=7.3.0->qiskit[visualization]) (0.4)\n",
            "Requirement already satisfied: mistune<2,>=0.8.1 in /usr/local/lib/python3.8/dist-packages (from nbconvert<6.0->notebook>=4.4.1->widgetsnbextension~=3.6.0->ipywidgets>=7.3.0->qiskit[visualization]) (0.8.4)\n",
            "Requirement already satisfied: testpath in /usr/local/lib/python3.8/dist-packages (from nbconvert<6.0->notebook>=4.4.1->widgetsnbextension~=3.6.0->ipywidgets>=7.3.0->qiskit[visualization]) (0.6.0)\n",
            "Requirement already satisfied: defusedxml in /usr/local/lib/python3.8/dist-packages (from nbconvert<6.0->notebook>=4.4.1->widgetsnbextension~=3.6.0->ipywidgets>=7.3.0->qiskit[visualization]) (0.7.1)\n",
            "Requirement already satisfied: bleach in /usr/local/lib/python3.8/dist-packages (from nbconvert<6.0->notebook>=4.4.1->widgetsnbextension~=3.6.0->ipywidgets>=7.3.0->qiskit[visualization]) (5.0.1)\n",
            "Requirement already satisfied: jsonschema>=2.6 in /usr/local/lib/python3.8/dist-packages (from nbformat->notebook>=4.4.1->widgetsnbextension~=3.6.0->ipywidgets>=7.3.0->qiskit[visualization]) (4.3.3)\n",
            "Requirement already satisfied: fastjsonschema in /usr/local/lib/python3.8/dist-packages (from nbformat->notebook>=4.4.1->widgetsnbextension~=3.6.0->ipywidgets>=7.3.0->qiskit[visualization]) (2.16.2)\n",
            "Requirement already satisfied: importlib-resources>=1.4.0 in /usr/local/lib/python3.8/dist-packages (from jsonschema>=2.6->nbformat->notebook>=4.4.1->widgetsnbextension~=3.6.0->ipywidgets>=7.3.0->qiskit[visualization]) (5.10.2)\n",
            "Requirement already satisfied: attrs>=17.4.0 in /usr/local/lib/python3.8/dist-packages (from jsonschema>=2.6->nbformat->notebook>=4.4.1->widgetsnbextension~=3.6.0->ipywidgets>=7.3.0->qiskit[visualization]) (22.2.0)\n",
            "Requirement already satisfied: pyrsistent!=0.17.0,!=0.17.1,!=0.17.2,>=0.14.0 in /usr/local/lib/python3.8/dist-packages (from jsonschema>=2.6->nbformat->notebook>=4.4.1->widgetsnbextension~=3.6.0->ipywidgets>=7.3.0->qiskit[visualization]) (0.19.3)\n",
            "Requirement already satisfied: webencodings in /usr/local/lib/python3.8/dist-packages (from bleach->nbconvert<6.0->notebook>=4.4.1->widgetsnbextension~=3.6.0->ipywidgets>=7.3.0->qiskit[visualization]) (0.5.1)\n",
            "Requirement already satisfied: zipp>=3.1.0 in /usr/local/lib/python3.8/dist-packages (from importlib-resources>=1.4.0->jsonschema>=2.6->nbformat->notebook>=4.4.1->widgetsnbextension~=3.6.0->ipywidgets>=7.3.0->qiskit[visualization]) (3.11.0)\n"
          ]
        }
      ],
      "source": [
        "pip install qiskit[visualization]"
      ]
    },
    {
      "cell_type": "code",
      "execution_count": null,
      "metadata": {
        "id": "_WStyClKL-9-"
      },
      "outputs": [],
      "source": [
        "from qiskit import QuantumCircuit, QuantumRegister, ClassicalRegister\n",
        "from qiskit.providers.aer import QasmSimulator\n",
        "from qiskit.visualization import plot_histogram"
      ]
    },
    {
      "cell_type": "code",
      "execution_count": null,
      "metadata": {
        "colab": {
          "base_uri": "https://localhost:8080/"
        },
        "id": "lQ6ZjrYXMipy",
        "outputId": "058be518-1aaa-4460-b0ac-c20562eba7f5"
      },
      "outputs": [
        {
          "name": "stdout",
          "output_type": "stream",
          "text": [
            "Enter classical bit string here: 00011011\n"
          ]
        }
      ],
      "source": [
        "classical_input = input(\"Enter classical bit string here: \")\n",
        "classical_data = []\n",
        "qubits = []\n",
        "message = 0\n",
        "decoded_data = []\n",
        "\n",
        "if len(classical_input) % 2 == 0:\n",
        "  for i in range(len(classical_input)):\n",
        "    if (i % 2 != 0):\n",
        "      classical_data.append(classical_input[(i - 1):(i + 1)])\n",
        "else:\n",
        "  raise ValueError('Must be even number of bits')"
      ]
    },
    {
      "cell_type": "code",
      "execution_count": null,
      "metadata": {
        "colab": {
          "base_uri": "https://localhost:8080/"
        },
        "id": "1bXscuRtOl7D",
        "outputId": "4d1be2ba-4396-4e75-b783-53e72c679842"
      },
      "outputs": [
        {
          "name": "stdout",
          "output_type": "stream",
          "text": [
            "['00', '01', '10', '11']\n"
          ]
        }
      ],
      "source": [
        "print(classical_data)"
      ]
    },
    {
      "cell_type": "code",
      "execution_count": null,
      "metadata": {
        "id": "94jboE-bO_Tf"
      },
      "outputs": [],
      "source": [
        "def bell_state(qc):\n",
        "  qc.h(0)\n",
        "  qc.cx(0, 1)\n",
        "  return qc"
      ]
    },
    {
      "cell_type": "code",
      "execution_count": null,
      "metadata": {
        "id": "WqwqnxeTolYZ"
      },
      "outputs": [],
      "source": [
        "def create_bell_state(qc):\n",
        "  qc.h(0)\n",
        "  qc.cx(1, 0)\n",
        "  return qc"
      ]
    },
    {
      "cell_type": "code",
      "execution_count": null,
      "metadata": {
        "id": "xFgGrL4pRj5T"
      },
      "outputs": [],
      "source": [
        "def measure_and_report(qc):\n",
        "  qc.measure(1, 1)\n",
        "  qc.measure(0, 1)\n",
        "\n",
        "  simulator = QasmSimulator()\n",
        "\n",
        "  job = simulator.run(qc)\n",
        "  result = job.result()\n",
        "  counts = result.get_counts(qc)\n",
        "\n",
        "  return counts"
      ]
    },
    {
      "cell_type": "code",
      "execution_count": null,
      "metadata": {
        "id": "x9rrF97R5zvc"
      },
      "outputs": [],
      "source": [
        "def extract_classical_bits(qc, num):\n",
        "  qc.cx(0, 1)\n",
        "  qc.h(0)\n",
        "  return qc"
      ]
    },
    {
      "cell_type": "code",
      "execution_count": null,
      "metadata": {
        "id": "CelyScyAT92j"
      },
      "outputs": [],
      "source": [
        "decoded_data = []"
      ]
    },
    {
      "cell_type": "code",
      "execution_count": null,
      "metadata": {
        "colab": {
          "base_uri": "https://localhost:8080/"
        },
        "id": "uxD7ungmPRpd",
        "outputId": "b1d76137-818b-40ab-882b-cd7f0575cefb"
      },
      "outputs": [
        {
          "name": "stdout",
          "output_type": "stream",
          "text": [
            "After entanglement: {'10': 503, '00': 521}\n",
            "Bit pair 1 identified as 00\n",
            "Qubit 1: {'10': 522, '00': 502}\n",
            "     ┌──────────────────┐┌───┐     ┌─┐   ┌─┐        ┌───┐\n",
            "q_0: ┤0                 ├┤ H ├──■──┤M├───┤M├─────■──┤ H ├\n",
            "     │  Initialize(0,0) │└───┘┌─┴─┐└╥┘┌─┐└╥┘┌─┐┌─┴─┐└───┘\n",
            "q_1: ┤1                 ├─────┤ X ├─╫─┤M├─╫─┤M├┤ X ├─────\n",
            "     └──────────────────┘     └───┘ ║ └╥┘ ║ └╥┘└───┘     \n",
            "c: 2/═══════════════════════════════╩══╩══╩══╩═══════════\n",
            "                                    1  1  1  1           \n",
            "\n",
            "\n",
            "\n",
            "After entanglement: {'00': 548, '10': 476}\n",
            "Bit pair 1 identified as 01\n",
            "Qubit 1: {'00': 502, '10': 522}\n",
            "     ┌──────────────────┐┌───┐     ┌─┐        ┌─┐        ┌───┐\n",
            "q_0: ┤0                 ├┤ H ├──■──┤M├────────┤M├─────■──┤ H ├\n",
            "     │  Initialize(0,0) │└───┘┌─┴─┐└╥┘┌─┐┌───┐└╥┘┌─┐┌─┴─┐└───┘\n",
            "q_1: ┤1                 ├─────┤ X ├─╫─┤M├┤ X ├─╫─┤M├┤ X ├─────\n",
            "     └──────────────────┘     └───┘ ║ └╥┘└───┘ ║ └╥┘└───┘     \n",
            "c: 2/═══════════════════════════════╩══╩═══════╩══╩═══════════\n",
            "                                    1  1       1  1           \n",
            "\n",
            "\n",
            "\n",
            "After entanglement: {'00': 475, '10': 549}\n",
            "Bit pair 1 identified as 10\n",
            "Qubit 1: {'10': 540, '00': 484}\n",
            "     ┌──────────────────┐┌───┐     ┌─┐        ┌─┐        ┌───┐\n",
            "q_0: ┤0                 ├┤ H ├──■──┤M├────────┤M├─────■──┤ H ├\n",
            "     │  Initialize(0,0) │└───┘┌─┴─┐└╥┘┌─┐┌───┐└╥┘┌─┐┌─┴─┐└───┘\n",
            "q_1: ┤1                 ├─────┤ X ├─╫─┤M├┤ Z ├─╫─┤M├┤ X ├─────\n",
            "     └──────────────────┘     └───┘ ║ └╥┘└───┘ ║ └╥┘└───┘     \n",
            "c: 2/═══════════════════════════════╩══╩═══════╩══╩═══════════\n",
            "                                    1  1       1  1           \n",
            "\n",
            "\n",
            "\n",
            "After entanglement: {'10': 534, '00': 490}\n",
            "Bit pair 1 identified as 11\n",
            "Z and X gate\n",
            "Qubit 1: {'00': 489, '10': 535}\n",
            "     ┌──────────────────┐┌───┐     ┌─┐        ┌─┐             ┌───┐\n",
            "q_0: ┤0                 ├┤ H ├──■──┤M├────────┤M├──────────■──┤ H ├\n",
            "     │  Initialize(0,0) │└───┘┌─┴─┐└╥┘┌─┐┌───┐└╥┘┌───┐┌─┐┌─┴─┐└───┘\n",
            "q_1: ┤1                 ├─────┤ X ├─╫─┤M├┤ X ├─╫─┤ Z ├┤M├┤ X ├─────\n",
            "     └──────────────────┘     └───┘ ║ └╥┘└───┘ ║ └───┘└╥┘└───┘     \n",
            "c: 2/═══════════════════════════════╩══╩═══════╩═══════╩═══════════\n",
            "                                    1  1       1       1           \n",
            "\n",
            "\n",
            "\n"
          ]
        }
      ],
      "source": [
        "for bit_pair in classical_data:\n",
        "  measure_num = 0\n",
        "  bit_pair_num = 0\n",
        "\n",
        "  bit_pair_num += 1\n",
        "  # q_reg = QuantumRegister(2, 'q')\n",
        "  # c_reg = ClassicalRegister(2, 'c')\n",
        "  qc = QuantumCircuit(2, 2)\n",
        "  qc.initialize('00', qc.qubits)\n",
        "  entangled_qc = bell_state(qc)\n",
        "  print(f'After entanglement: {measure_and_report(entangled_qc)}')\n",
        "  \n",
        "  if bit_pair == '00':\n",
        "    print(f'Bit pair {bit_pair_num} identified as 00')\n",
        "  elif bit_pair == '01':\n",
        "    print(f'Bit pair {bit_pair_num} identified as 01')\n",
        "    entangled_qc.x(1)\n",
        "    measure_num += 1\n",
        "  elif bit_pair == '10':\n",
        "    print(f'Bit pair {bit_pair_num} identified as 10')\n",
        "    entangled_qc.z(1)\n",
        "  elif bit_pair == '11':\n",
        "    print(f'Bit pair {bit_pair_num} identified as 11')\n",
        "    entangled_qc.x(1)\n",
        "    entangled_qc.z(1)\n",
        "    print('Z and X gate')\n",
        "  else:\n",
        "    raise ValueError('Bitstring contains a non-binary value')\n",
        "\n",
        "  counts = measure_and_report(entangled_qc)\n",
        "  measure_num += 1\n",
        "  print(f'Qubit {bit_pair_num}: {counts}')\n",
        "  qubits.append(counts)\n",
        "\n",
        "  if message == 0:\n",
        "    print('Then we retransform these qubits back to classical bits. You then receive...')\n",
        "    message = 1\n",
        "  \n",
        "  extracted_qc = extract_classical_bits(entangled_qc, measure_num)\n",
        "  print(extracted_qc)\n",
        "  counts = measure_and_report(extracted_qc)\n",
        "  measure_num += 1\n",
        "  decoded_data.append(counts)\n",
        "\n",
        "  print('\\n\\n')"
      ]
    },
    {
      "cell_type": "code",
      "execution_count": null,
      "metadata": {
        "colab": {
          "base_uri": "https://localhost:8080/"
        },
        "id": "1YPYHBCeny0J",
        "outputId": "a5c45d7b-731f-4ed7-8f38-9879e374f40f"
      },
      "outputs": [
        {
          "output_type": "stream",
          "name": "stdout",
          "text": [
            "     ┌──────────────────┐     ┌───┐\n",
            "q_0: ┤0                 ├─────┤ X ├\n",
            "     │  Initialize(0,0) │┌───┐└─┬─┘\n",
            "q_1: ┤1                 ├┤ H ├──■──\n",
            "     └──────────────────┘└───┘     \n",
            "c: 2/══════════════════════════════\n",
            "                                   \n",
            "{'00': 513, '10': 511}\n"
          ]
        }
      ],
      "source": [
        "qc1 = QuantumCircuit(2, 2)\n",
        "qc1.initialize('00', qc1.qubits)\n",
        "\n",
        "qc1.h(1)\n",
        "qc1.cx(1, 0)\n",
        "print(qc1)\n",
        "print(measure_and_report(qc1))"
      ]
    },
    {
      "cell_type": "code",
      "execution_count": null,
      "metadata": {
        "colab": {
          "base_uri": "https://localhost:8080/"
        },
        "id": "qe2Wdoul66cc",
        "outputId": "7f9f8d62-cdb8-4bb8-af10-c2eb608c11a4"
      },
      "outputs": [
        {
          "data": {
            "text/plain": [
              "[{'00': 1024}, {'10': 1024}, {'00': 1024}, {'10': 1024}]"
            ]
          },
          "execution_count": 10,
          "metadata": {},
          "output_type": "execute_result"
        }
      ],
      "source": [
        "decoded_data"
      ]
    },
    {
      "cell_type": "code",
      "execution_count": null,
      "metadata": {
        "colab": {
          "base_uri": "https://localhost:8080/"
        },
        "id": "d88CIqpJovap",
        "outputId": "24034420-a5a2-43ba-dbc8-4e0edfc03df1"
      },
      "outputs": [
        {
          "data": {
            "text/plain": [
              "[{'01': 527, '10': 497},\n",
              " {'11': 494, '00': 530},\n",
              " {'11': 516, '00': 508},\n",
              " {'10': 492, '01': 532},\n",
              " {'01': 532, '10': 492},\n",
              " {'10': 524, '01': 500},\n",
              " {'10': 527, '01': 497},\n",
              " {'01': 531, '10': 493},\n",
              " {'11': 512, '00': 512},\n",
              " {'00': 504, '11': 520},\n",
              " {'01': 508, '10': 516},\n",
              " {'10': 525, '01': 499},\n",
              " {'00': 520, '11': 504},\n",
              " {'01': 511, '10': 513},\n",
              " {'10': 521, '01': 503},\n",
              " {'11': 507, '00': 517},\n",
              " {'01': 497, '10': 527},\n",
              " {'01': 523, '10': 501},\n",
              " {'10': 499, '01': 525},\n",
              " {'10': 524, '01': 500},\n",
              " {'10': 536, '01': 488},\n",
              " {'00': 518, '11': 506},\n",
              " {'00': 504, '11': 520},\n",
              " {'11': 513, '00': 511}]"
            ]
          },
          "execution_count": 14,
          "metadata": {},
          "output_type": "execute_result"
        }
      ],
      "source": [
        "qubits"
      ]
    }
  ],
  "metadata": {
    "colab": {
      "provenance": [],
      "authorship_tag": "ABX9TyOsFdlOyHZclbpqHbah/ahL"
    },
    "kernelspec": {
      "display_name": "Python 3",
      "name": "python3"
    },
    "language_info": {
      "name": "python"
    }
  },
  "nbformat": 4,
  "nbformat_minor": 0
}